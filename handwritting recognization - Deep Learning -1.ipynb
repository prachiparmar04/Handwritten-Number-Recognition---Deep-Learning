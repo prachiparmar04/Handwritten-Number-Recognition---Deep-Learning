{
 "cells": [
  {
   "cell_type": "code",
   "execution_count": 1,
   "metadata": {},
   "outputs": [],
   "source": [
    "import tensorflow \n",
    "import keras"
   ]
  },
  {
   "cell_type": "code",
   "execution_count": 3,
   "metadata": {},
   "outputs": [],
   "source": [
    "import matplotlib.pyplot as plt\n",
    "from keras.layers import Dense, Flatten\n",
    "from keras.models import Sequential\n",
    "from tensorflow.keras.utils import to_categorical,plot_model\n",
    "from keras.datasets import mnist\n",
    "from keras import utils"
   ]
  },
  {
   "cell_type": "code",
   "execution_count": 4,
   "metadata": {},
   "outputs": [],
   "source": [
    "(x_train,y_train),(x_test,y_test) = mnist.load_data()"
   ]
  },
  {
   "cell_type": "code",
   "execution_count": 7,
   "metadata": {},
   "outputs": [
    {
     "data": {
      "text/plain": [
       "((60000, 28, 28), (10000, 28, 28), (60000,))"
      ]
     },
     "execution_count": 7,
     "metadata": {},
     "output_type": "execute_result"
    }
   ],
   "source": [
    "x_train.shape,x_test.shape,y_train.shape"
   ]
  },
  {
   "cell_type": "code",
   "execution_count": 17,
   "metadata": {},
   "outputs": [
    {
     "data": {
      "image/png": "[encoded data removed]",
      "text/plain": [
       "<Figure size 1440x288 with 10 Axes>"
      ]
     },
     "metadata": {
      "needs_background": "light"
     },
     "output_type": "display_data"
    }
   ],
   "source": [
    "fig,axes  = plt.subplots(ncols=10,sharex=False,sharey=True,figsize=(20,4))\n",
    "for  i in range(10):\n",
    "    axes[i].set_title(y_train[i])\n",
    "    axes[i].imshow(x_train[i],cmap='gray')\n",
    "    axes[i].get_xaxis().set_visible(False)\n",
    "    axes[i].get_yaxis().set_visible(False)\n",
    "plt.show()"
   ]
  },
  {
   "cell_type": "code",
   "execution_count": null,
   "metadata": {},
   "outputs": [],
   "source": []
  },
  {
   "cell_type": "code",
   "execution_count": 11,
   "metadata": {},
   "outputs": [],
   "source": [
    "y_train = to_categorical(y_train)\n",
    "y_test = to_categorical(y_test)\n"
   ]
  },
  {
   "cell_type": "code",
   "execution_count": 14,
   "metadata": {},
   "outputs": [
    {
     "data": {
      "text/plain": [
       "(60000, 10)"
      ]
     },
     "execution_count": 14,
     "metadata": {},
     "output_type": "execute_result"
    }
   ],
   "source": [
    "y_train.shape"
   ]
  },
  {
   "cell_type": "code",
   "execution_count": 41,
   "metadata": {},
   "outputs": [],
   "source": [
    "# Architecture building \n",
    "\n",
    "#sequential : layer type\n",
    "model = Sequential()\n",
    "\n",
    "#adding layers\n",
    "#flatten converts 2d to 1D nmueric format.\n",
    "\n",
    "#28 X 28 dimensions  converts 2 D to 1D , flattens - 28 X 28 to - 1 X 28*28\n",
    "model.add(Flatten(input_shape=(28,28))) # 1 X 28*28 , 784 nodes/ inputs \n",
    "model.add(Dense(10,activation='sigmoid')) #10 nodes -- hidden layer, Dense means fully connected.\n",
    "model.add(Dense(5,activation='sigmoid')) #5 nodes/neurons --hidden layer\n",
    "model.add(Dense(10,activation='softmax')) # 10 nodes -- output layer\n",
    "#compiling the model\n",
    "\n",
    "model.compile(loss=\"categorical_crossentropy\",optimizer=\"adam\",metrics=[\"acc\"])\n",
    "#softmax used - multi layer classification problem "
   ]
  },
  {
   "cell_type": "code",
   "execution_count": 42,
   "metadata": {
    "scrolled": true
   },
   "outputs": [
    {
     "name": "stdout",
     "output_type": "stream",
     "text": [
      "Model: \"sequential_2\"\n",
      "_________________________________________________________________\n",
      " Layer (type)                Output Shape              Param #   \n",
      "=================================================================\n",
      " flatten_2 (Flatten)         (None, 784)               0         \n",
      "                                                                 \n",
      " dense_6 (Dense)             (None, 10)                7850      \n",
      "                                                                 \n",
      " dense_7 (Dense)             (None, 5)                 55        \n",
      "                                                                 \n",
      " dense_8 (Dense)             (None, 10)                60        \n",
      "                                                                 \n",
      "=================================================================\n",
      "Total params: 7,965\n",
      "Trainable params: 7,965\n",
      "Non-trainable params: 0\n",
      "_________________________________________________________________\n"
     ]
    }
   ],
   "source": [
    "model.summary()"
   ]
  },
  {
   "cell_type": "code",
   "execution_count": 43,
   "metadata": {},
   "outputs": [
    {
     "name": "stdout",
     "output_type": "stream",
     "text": [
      "Epoch 1/30\n",
      "600/600 [==============================] - 5s 6ms/step - loss: 1.9557 - acc: 0.3981 - val_loss: 1.6572 - val_acc: 0.4724\n",
      "Epoch 2/30\n",
      "600/600 [==============================] - 2s 3ms/step - loss: 1.4821 - acc: 0.5081 - val_loss: 1.3529 - val_acc: 0.5039\n",
      "Epoch 3/30\n",
      "600/600 [==============================] - 2s 3ms/step - loss: 1.2627 - acc: 0.5311 - val_loss: 1.1889 - val_acc: 0.5374\n",
      "Epoch 4/30\n",
      "600/600 [==============================] - 2s 3ms/step - loss: 1.1414 - acc: 0.5464 - val_loss: 1.0951 - val_acc: 0.5468\n",
      "Epoch 5/30\n",
      "600/600 [==============================] - 2s 3ms/step - loss: 1.0698 - acc: 0.5594 - val_loss: 1.0569 - val_acc: 0.5683\n",
      "Epoch 6/30\n",
      "600/600 [==============================] - 2s 3ms/step - loss: 1.0258 - acc: 0.5805 - val_loss: 1.0201 - val_acc: 0.5942\n",
      "Epoch 7/30\n",
      "600/600 [==============================] - 2s 3ms/step - loss: 0.9905 - acc: 0.6062 - val_loss: 0.9794 - val_acc: 0.6203\n",
      "Epoch 8/30\n",
      "600/600 [==============================] - 2s 3ms/step - loss: 0.9610 - acc: 0.6249 - val_loss: 0.9409 - val_acc: 0.6481\n",
      "Epoch 9/30\n",
      "600/600 [==============================] - 2s 3ms/step - loss: 0.9234 - acc: 0.6720 - val_loss: 0.8824 - val_acc: 0.6988\n",
      "Epoch 10/30\n",
      "600/600 [==============================] - 2s 3ms/step - loss: 0.8860 - acc: 0.6962 - val_loss: 0.8886 - val_acc: 0.6937\n",
      "Epoch 11/30\n",
      "600/600 [==============================] - 2s 3ms/step - loss: 0.8539 - acc: 0.7092 - val_loss: 0.8167 - val_acc: 0.7484\n",
      "Epoch 12/30\n",
      "600/600 [==============================] - 2s 4ms/step - loss: 0.8236 - acc: 0.7328 - val_loss: 0.7921 - val_acc: 0.7563\n",
      "Epoch 13/30\n",
      "600/600 [==============================] - 2s 4ms/step - loss: 0.7903 - acc: 0.7458 - val_loss: 0.7806 - val_acc: 0.7590\n",
      "Epoch 14/30\n",
      "600/600 [==============================] - 2s 3ms/step - loss: 0.7690 - acc: 0.7484 - val_loss: 0.7488 - val_acc: 0.7558\n",
      "Epoch 15/30\n",
      "600/600 [==============================] - 2s 3ms/step - loss: 0.7494 - acc: 0.7620 - val_loss: 0.7374 - val_acc: 0.7738\n",
      "Epoch 16/30\n",
      "600/600 [==============================] - 2s 3ms/step - loss: 0.7238 - acc: 0.7722 - val_loss: 0.6762 - val_acc: 0.8187\n",
      "Epoch 17/30\n",
      "600/600 [==============================] - 2s 3ms/step - loss: 0.6953 - acc: 0.7985 - val_loss: 0.6481 - val_acc: 0.8246\n",
      "Epoch 18/30\n",
      "600/600 [==============================] - 2s 3ms/step - loss: 0.6748 - acc: 0.8116 - val_loss: 0.6559 - val_acc: 0.8214\n",
      "Epoch 19/30\n",
      "600/600 [==============================] - 2s 3ms/step - loss: 0.6527 - acc: 0.8211 - val_loss: 0.6379 - val_acc: 0.8362\n",
      "Epoch 20/30\n",
      "600/600 [==============================] - 2s 3ms/step - loss: 0.6405 - acc: 0.8234 - val_loss: 0.6202 - val_acc: 0.8317\n",
      "Epoch 21/30\n",
      "600/600 [==============================] - 2s 3ms/step - loss: 0.6274 - acc: 0.8294 - val_loss: 0.6036 - val_acc: 0.8436\n",
      "Epoch 22/30\n",
      "600/600 [==============================] - 2s 3ms/step - loss: 0.6238 - acc: 0.8305 - val_loss: 0.5902 - val_acc: 0.8431\n",
      "Epoch 23/30\n",
      "600/600 [==============================] - 2s 3ms/step - loss: 0.5952 - acc: 0.8400 - val_loss: 0.5706 - val_acc: 0.8578\n",
      "Epoch 24/30\n",
      "600/600 [==============================] - 2s 3ms/step - loss: 0.5809 - acc: 0.8444 - val_loss: 0.5640 - val_acc: 0.8552\n",
      "Epoch 25/30\n",
      "600/600 [==============================] - 2s 3ms/step - loss: 0.6043 - acc: 0.8321 - val_loss: 0.5548 - val_acc: 0.8591\n",
      "Epoch 26/30\n",
      "600/600 [==============================] - 2s 3ms/step - loss: 0.5929 - acc: 0.8368 - val_loss: 0.5695 - val_acc: 0.8628\n",
      "Epoch 27/30\n",
      "600/600 [==============================] - 2s 3ms/step - loss: 0.5856 - acc: 0.8405 - val_loss: 0.5645 - val_acc: 0.8446\n",
      "Epoch 28/30\n",
      "600/600 [==============================] - 2s 3ms/step - loss: 0.5648 - acc: 0.8457 - val_loss: 0.5345 - val_acc: 0.8629\n",
      "Epoch 29/30\n",
      "600/600 [==============================] - 2s 3ms/step - loss: 0.5570 - acc: 0.8504 - val_loss: 0.5433 - val_acc: 0.8607\n",
      "Epoch 30/30\n",
      "600/600 [==============================] - 2s 3ms/step - loss: 0.5416 - acc: 0.8554 - val_loss: 0.5548 - val_acc: 0.8467\n"
     ]
    }
   ],
   "source": [
    "history = model.fit(x_train,y_train,epochs=30,batch_size=100,validation_data=(x_test,y_test)) #epoch, steps per epoch.\n",
    "\n",
    "# 32 is default batch sixze = 32 * 1875 steps per epoch. = 60K"
   ]
  },
  {
   "cell_type": "code",
   "execution_count": 44,
   "metadata": {},
   "outputs": [],
   "source": [
    "model.save('model_handwritting.h5')\n",
    "#load it in neutron wenbsite"
   ]
  },
  {
   "cell_type": "code",
   "execution_count": 45,
   "metadata": {},
   "outputs": [],
   "source": [
    "loss = history.history['loss']\n",
    "acc = history.history['acc']\n",
    "val_loss = history.history['val_loss']\n",
    "val_acc = history.history['val_acc']"
   ]
  },
  {
   "cell_type": "code",
   "execution_count": 46,
   "metadata": {},
   "outputs": [
    {
     "data": {
      "text/plain": [
       "Text(0, 0.5, 'Loss')"
      ]
     },
     "execution_count": 46,
     "metadata": {},
     "output_type": "execute_result"
    },
    {
     "data": {
      "image/png": "[encoded data removed]",
      "text/plain": [
       "<Figure size 432x288 with 1 Axes>"
      ]
     },
     "metadata": {
      "needs_background": "light"
     },
     "output_type": "display_data"
    }
   ],
   "source": [
    "plt.plot(loss,label = 'Train Loss')\n",
    "plt.plot(val_loss,label = 'Validation Loss')\n",
    "plt.xlabel('no of epochs')\n",
    "plt.ylabel('Loss')"
   ]
  },
  {
   "cell_type": "code",
   "execution_count": 47,
   "metadata": {},
   "outputs": [
    {
     "data": {
      "text/plain": [
       "Text(0, 0.5, 'Accuracy')"
      ]
     },
     "execution_count": 47,
     "metadata": {},
     "output_type": "execute_result"
    },
    {
     "data": {
      "image/png": "[encoded data removed]",
      "text/plain": [
       "<Figure size 432x288 with 1 Axes>"
      ]
     },
     "metadata": {
      "needs_background": "light"
     },
     "output_type": "display_data"
    }
   ],
   "source": [
    "plt.plot(acc,label = 'Train accuracy')\n",
    "plt.plot(val_acc,label = 'Validation accuracy')\n",
    "plt.xlabel('no of epochs')\n",
    "plt.ylabel('Accuracy')"
   ]
  },
  {
   "cell_type": "code",
   "execution_count": null,
   "metadata": {},
   "outputs": [],
   "source": []
  }
 ],
 "metadata": {
  "kernelspec": {
   "display_name": "Python 3",
   "language": "python",
   "name": "python3"
  },
  "language_info": {
   "codemirror_mode": {
    "name": "ipython",
    "version": 3
   },
   "file_extension": ".py",
   "mimetype": "text/x-python",
   "name": "python",
   "nbconvert_exporter": "python",
   "pygments_lexer": "ipython3",
   "version": "3.8.5"
  }
 },
 "nbformat": 4,
 "nbformat_minor": 4
}
